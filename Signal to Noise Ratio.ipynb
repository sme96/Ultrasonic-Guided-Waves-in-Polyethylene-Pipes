{
 "cells": [
  {
   "cell_type": "code",
   "execution_count": 1,
   "id": "892197f6-cc2d-4e9e-a521-8095a3cc4747",
   "metadata": {},
   "outputs": [],
   "source": [
    "import scipy as sp\n",
    "import scipy.fftpack as fft"
   ]
  },
  {
   "cell_type": "markdown",
   "id": "75047cfc-45bc-43d6-832a-79765d23bf03",
   "metadata": {},
   "source": [
    "Signal properties"
   ]
  },
  {
   "cell_type": "code",
   "execution_count": 2,
   "id": "1a5d88fc-e887-4b43-8e48-398b402baf9b",
   "metadata": {},
   "outputs": [
    {
     "name": "stderr",
     "output_type": "stream",
     "text": [
      "C:\\Users\\MEH-3\\AppData\\Local\\Temp/ipykernel_6024/2414908502.py:4: DeprecationWarning: scipy.arange is deprecated and will be removed in SciPy 2.0.0, use numpy.arange instead\n",
      "  n  = sp.arange(1024)      # Time index\n"
     ]
    }
   ],
   "source": [
    "f1 = 1000                 # Frequency\n",
    "Fs = 8000                 # Sampling Rate\n",
    "A  = 0.75                 # Amplitude\n",
    "n  = sp.arange(1024)      # Time index"
   ]
  },
  {
   "cell_type": "markdown",
   "id": "6928a5a9-fd7d-4a21-a14a-73cd8b86ec6a",
   "metadata": {},
   "source": [
    "Desired SNR in dB"
   ]
  },
  {
   "cell_type": "code",
   "execution_count": 3,
   "id": "5989ac2a-2c4b-4cb6-91a1-bcc21d2f248e",
   "metadata": {},
   "outputs": [],
   "source": [
    "SNR_dB = 40"
   ]
  },
  {
   "cell_type": "markdown",
   "id": "d7063662-23cc-44c2-bfba-90a159f86eec",
   "metadata": {},
   "source": [
    "Desired Linear SNR"
   ]
  },
  {
   "cell_type": "code",
   "execution_count": 4,
   "id": "55096146-6d12-44df-94be-853ed5ba5aa7",
   "metadata": {},
   "outputs": [
    {
     "data": {
      "text/plain": [
       "10000.0"
      ]
     },
     "execution_count": 4,
     "metadata": {},
     "output_type": "execute_result"
    }
   ],
   "source": [
    "snr = 10**(SNR_dB/10)\n",
    "snr"
   ]
  },
  {
   "cell_type": "markdown",
   "id": "ac0b7d06-d376-4548-93c4-fcba1348ccb8",
   "metadata": {},
   "source": [
    "Measure the power of the signal"
   ]
  },
  {
   "cell_type": "code",
   "execution_count": 5,
   "id": "50c21401-8b9a-4f33-80e1-71194d5846c6",
   "metadata": {},
   "outputs": [
    {
     "name": "stderr",
     "output_type": "stream",
     "text": [
      "C:\\Users\\MEH-3\\AppData\\Local\\Temp/ipykernel_6024/355872239.py:1: DeprecationWarning: scipy.sin is deprecated and will be removed in SciPy 2.0.0, use numpy.sin instead\n",
      "  signal1 = A*sp.sin(2*sp.pi*f1/Fs*n)\n"
     ]
    },
    {
     "data": {
      "text/plain": [
       "array([ 0.        ,  0.53033009,  0.75      , ..., -0.53033009,\n",
       "       -0.75      , -0.53033009])"
      ]
     },
     "execution_count": 5,
     "metadata": {},
     "output_type": "execute_result"
    }
   ],
   "source": [
    "signal1 = A*sp.sin(2*sp.pi*f1/Fs*n)\n",
    "signal1"
   ]
  },
  {
   "cell_type": "markdown",
   "id": "e6a141ca-dd42-4637-a05f-b5f78c6eb96b",
   "metadata": {},
   "source": [
    "Measure the signal's power"
   ]
  },
  {
   "cell_type": "code",
   "execution_count": 6,
   "id": "9de73a22-46db-4dd8-b9d2-4a17b27b9175",
   "metadata": {},
   "outputs": [
    {
     "data": {
      "text/plain": [
       "0.2812499999999999"
      ]
     },
     "execution_count": 6,
     "metadata": {},
     "output_type": "execute_result"
    }
   ],
   "source": [
    "p1 = signal1.var()\n",
    "p1"
   ]
  },
  {
   "cell_type": "markdown",
   "id": "5e5ee97d-1e9d-4c52-b6a2-f137fee9d401",
   "metadata": {},
   "source": [
    "Noise power required to achieve SNR"
   ]
  },
  {
   "cell_type": "code",
   "execution_count": 7,
   "id": "5406f4ff-bb81-4720-a807-6fd54f418cef",
   "metadata": {},
   "outputs": [
    {
     "data": {
      "text/plain": [
       "2.812499999999999e-05"
      ]
     },
     "execution_count": 7,
     "metadata": {},
     "output_type": "execute_result"
    }
   ],
   "source": [
    "n = p1/snr\n",
    "n"
   ]
  },
  {
   "cell_type": "code",
   "execution_count": 8,
   "id": "d6cfd91d-4184-4637-83ca-721489285399",
   "metadata": {},
   "outputs": [
    {
     "name": "stderr",
     "output_type": "stream",
     "text": [
      "C:\\Users\\MEH-3\\AppData\\Local\\Temp/ipykernel_6024/3074589063.py:1: DeprecationWarning: scipy.log10 is deprecated and will be removed in SciPy 2.0.0, use numpy.lib.scimath.log10 instead\n",
      "  10*sp.log10(p1/n)\n"
     ]
    },
    {
     "data": {
      "text/plain": [
       "40.0"
      ]
     },
     "execution_count": 8,
     "metadata": {},
     "output_type": "execute_result"
    }
   ],
   "source": [
    "10*sp.log10(p1/n)"
   ]
  },
  {
   "cell_type": "markdown",
   "id": "d8fb25fc-25d8-47c3-993d-8412f90cbdb7",
   "metadata": {},
   "source": [
    "Value is exactly equal to the SNR value specified above"
   ]
  },
  {
   "cell_type": "markdown",
   "id": "d26dec0a-c6eb-4db0-9575-159431731438",
   "metadata": {},
   "source": [
    "Generate noise with calculated power"
   ]
  },
  {
   "cell_type": "code",
   "execution_count": 21,
   "id": "958b7bca-6ffb-457b-9d8d-fd3c6deb9333",
   "metadata": {},
   "outputs": [
    {
     "name": "stderr",
     "output_type": "stream",
     "text": [
      "C:\\Users\\MEH-3\\AppData\\Local\\Temp/ipykernel_6024/525716311.py:1: DeprecationWarning: scipy.sqrt is deprecated and will be removed in SciPy 2.0.0, use numpy.lib.scimath.sqrt instead\n",
      "  w = sp.sqrt(n)*sp.randn(1024)\n",
      "C:\\Users\\MEH-3\\AppData\\Local\\Temp/ipykernel_6024/525716311.py:1: DeprecationWarning: scipy.randn is deprecated and will be removed in SciPy 2.0.0, use numpy.random.randn instead\n",
      "  w = sp.sqrt(n)*sp.randn(1024)\n"
     ]
    }
   ],
   "source": [
    "w = sp.sqrt(n)*sp.randn(1024)"
   ]
  },
  {
   "cell_type": "markdown",
   "id": "ed8e4674-9300-411a-bde8-be04f2457c80",
   "metadata": {},
   "source": [
    "New signal composed of artificially generated noise"
   ]
  },
  {
   "cell_type": "code",
   "execution_count": 22,
   "id": "f39a16eb-e7b5-4506-a0dc-aaac854e0a5b",
   "metadata": {},
   "outputs": [],
   "source": [
    "s1 = signal1 + w"
   ]
  },
  {
   "cell_type": "code",
   "execution_count": 23,
   "id": "1400c7bb-6da3-43cf-a7f5-854749f10d68",
   "metadata": {},
   "outputs": [
    {
     "data": {
      "text/plain": [
       "array([-0.00253726,  0.52508   ,  0.7491861 , ..., -0.52723772,\n",
       "       -0.74501048, -0.52264853])"
      ]
     },
     "execution_count": 23,
     "metadata": {},
     "output_type": "execute_result"
    }
   ],
   "source": [
    "s1"
   ]
  },
  {
   "cell_type": "code",
   "execution_count": 12,
   "id": "856d563b-c41b-4118-a787-f6f7eb195b63",
   "metadata": {},
   "outputs": [
    {
     "ename": "SyntaxError",
     "evalue": "Missing parentheses in call to 'print'. Did you mean print(\"Power of signal1 = \", p1)? (Temp/ipykernel_6024/3558312036.py, line 4)",
     "output_type": "error",
     "traceback": [
      "\u001b[1;36m  File \u001b[1;32m\"C:\\Users\\MEH-3\\AppData\\Local\\Temp/ipykernel_6024/3558312036.py\"\u001b[1;36m, line \u001b[1;32m4\u001b[0m\n\u001b[1;33m    print \"Power of signal1 = \", p1\u001b[0m\n\u001b[1;37m          ^\u001b[0m\n\u001b[1;31mSyntaxError\u001b[0m\u001b[1;31m:\u001b[0m Missing parentheses in call to 'print'. Did you mean print(\"Power of signal1 = \", p1)?\n"
     ]
    }
   ],
   "source": [
    "# Measure power of signal\n",
    "signal1 = amp1*sp.sin(2*sp.pi*f1/Fs*n)\n",
    "p1 = signal1.var()\n",
    "print \"Power of signal1 = \", p1\n",
    "\n",
    "# Calculate required noise power for desired SNR\n",
    "n = p1/snr\n",
    "print \"Noise power = \", n\n",
    "print \"Calculated SNR =  %f dB\" % (10*sp.log10(p1/n))\n",
    "\n",
    "# Generate noise with calculated power\n",
    "w = sp.sqrt(n)*sp.randn(1024)\n",
    "\n",
    "# Add noise to signal\n",
    "s1 = signal1 + w"
   ]
  }
 ],
 "metadata": {
  "kernelspec": {
   "display_name": "Python 3 (ipykernel)",
   "language": "python",
   "name": "python3"
  },
  "language_info": {
   "codemirror_mode": {
    "name": "ipython",
    "version": 3
   },
   "file_extension": ".py",
   "mimetype": "text/x-python",
   "name": "python",
   "nbconvert_exporter": "python",
   "pygments_lexer": "ipython3",
   "version": "3.9.7"
  }
 },
 "nbformat": 4,
 "nbformat_minor": 5
}
