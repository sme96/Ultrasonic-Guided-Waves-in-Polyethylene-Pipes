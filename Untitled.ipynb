{
 "cells": [
  {
   "cell_type": "code",
   "execution_count": null,
   "id": "d9935d2c-ed81-4957-a699-f634c69f9fe3",
   "metadata": {},
   "outputs": [],
   "source": [
    "def cross_corr_fxn (sig1, sig2_df, states):\n",
    "    # sig1 is a numpy array consisting of a single row. sig2 is a dataframe of signals to be cross-correlation compared\n",
    "    # to sig1, analyzed and plotted for accuracy. All signals inputted have the same domain.\n",
    "    \n",
    "    # in order to run cross-correlation across the domain, the length of the signal used for comparison is doubled with \n",
    "    # zero-valued ends\n",
    "    ends = np.zeros(int(len(sig1)/2));\n",
    "    sig1 = np.concatenate((ends, sig1, ends), axis = 0)\n",
    "    correlations = [];\n",
    "    \n",
    "    # Perform cross-correlation between sig1 and each row of sig2. Store in correlations\n",
    "    i = 0;\n",
    "    for row in sig2_df.iterrows():\n",
    "        sig2 = np.array(row)[1];\n",
    "        corr = np.correlate(a=sig1, v=sig2);\n",
    "        correlations.append(corr);\n",
    "        i = i + 1;\n",
    "        \n",
    "    # The states variable is defined outside the function, and the sig_df structure is expected to incorporate it\n",
    "    # The domains have to be adjusted for plotting\n",
    "    x = sig2_df.columns;\n",
    "    timestep = x[1]-x[0];\n",
    "    x = np.append(x,x[-1]+timestep);\n",
    "    \n",
    "    # Plot the cross-correlation functions as a subplot series\n",
    "    fig, ax = plt.subplots(len(states), 1, figsize = (15,60))\n",
    "    i = 0;\n",
    "    for state in states:\n",
    "        ax[i].plot(x, correlations[i])\n",
    "        ax[i].set_title(variable + ' = ' + str(state), fontsize = 15)\n",
    "        max_corr = max(correlations[i]);\n",
    "        ax[i].text(x[0],max_corr/2,'Maximum Corellation = ' + str(\"%.7f\" % max_corr), fontsize=14,\n",
    "        va='top', ha = 'left')\n",
    "        i = i + 1;\n",
    "        \n",
    "    fig.suptitle('Cross-Correlation between Experimental and Simulated Results\\nVarying ' + variable,fontsize = 30)\n",
    "    return correlations"
   ]
  }
 ],
 "metadata": {
  "kernelspec": {
   "display_name": "Python 3 (ipykernel)",
   "language": "python",
   "name": "python3"
  },
  "language_info": {
   "codemirror_mode": {
    "name": "ipython",
    "version": 3
   },
   "file_extension": ".py",
   "mimetype": "text/x-python",
   "name": "python",
   "nbconvert_exporter": "python",
   "pygments_lexer": "ipython3",
   "version": "3.9.7"
  }
 },
 "nbformat": 4,
 "nbformat_minor": 5
}
